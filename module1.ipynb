{
 "cells": [
  {
   "cell_type": "markdown",
   "id": "604adc28-b3d4-4d30-b3dd-45cd1a2b8324",
   "metadata": {},
   "source": [
    "Q1. What is Web Scrapping? Why is it Used ? Give three areas where Web Scraping is used to get data."
   ]
  },
  {
   "cell_type": "markdown",
   "id": "fc0ec9e0-9c66-41d9-b5ca-8360d1e02654",
   "metadata": {},
   "source": [
    " Ans : Web scraping is the process of extracting data from websites automatically using tools or scripts.\n",
    "\n",
    "     To gather large amounts of data quickly and efficiently from the web for analysis, research, or other purposes.\n",
    "\n",
    "     Three Areas Where Web Scraping is Used:\n",
    "\n",
    "    E-commerce: To monitor product prices, reviews, and competitors.\n",
    "    Market Research: To collect customer opinions or trends from forums and social media.\n",
    "    Job Portals: To gather job listings and candidate profiles for recruitment purposes."
   ]
  },
  {
   "cell_type": "markdown",
   "id": "818c0175-63e9-4679-9fba-66c9db88c0cb",
   "metadata": {},
   "source": [
    "Q2. What are the different methods used Web Scraping ?"
   ]
  },
  {
   "cell_type": "markdown",
   "id": "419e3d48-837b-4404-8421-87bcd6099ad0",
   "metadata": {},
   "source": [
    "Ans : Manual Copy-Paste: Collecting data manually from websites.\n",
    "      HTML Parsing: Using tools like BeautifulSoup to parse and extract data from HTML content.\n",
    "      Web Scraping Tools: Tools like Scrapy, Octoparse, or ParseHub for automated scraping.\n",
    "      Browser Automation: Using tools like Selenium to interact with websites and extract data.\n",
    "     APIs: Accessing structured data directly from APIs provided by websites.\n",
    "     Regex (Regular Expressions): Extracting specific patterns from web content."
   ]
  },
  {
   "cell_type": "markdown",
   "id": "6947ccee-1ff7-42ec-9b5b-c9054a06a9e1",
   "metadata": {},
   "source": [
    "Q3. What is Beautiful Soup ? Why is it used?"
   ]
  },
  {
   "cell_type": "markdown",
   "id": "c38789bd-f1f0-4427-978c-fb9495f73636",
   "metadata": {},
   "source": [
    "Ans : Beautiful Soup is a Python library used for web scraping. It helps parse HTML and XML documents to extract specific data.\n",
    "\n",
    "To navigate and search HTML/XML easily.\n",
    "To extract data like titles, links, and tables from web pages.\n",
    "To clean and organize web data for analysis.\n",
    "\n",
    "\n",
    "\n",
    "\n",
    "\n"
   ]
  },
  {
   "cell_type": "markdown",
   "id": "121a416c-b6b5-4d8c-92be-f011d460fcc5",
   "metadata": {},
   "source": [
    "Q4. Why is flask used in this Web Scraping project?"
   ]
  },
  {
   "cell_type": "markdown",
   "id": "1123e2a4-f7a9-406c-811c-c99b2b133e1f",
   "metadata": {},
   "source": [
    "Ans : Flask is used to create a lightweight web application that:\n",
    "\n",
    "Displays the scraped data on a web interface.\n",
    "Allows users to trigger web scraping through a browser.\n",
    "Provides an API endpoint to serve the scraped data to other applications."
   ]
  },
  {
   "cell_type": "markdown",
   "id": "77f88e4c-9127-4d0a-8652-61b9680b7462",
   "metadata": {},
   "source": [
    "Q5. Write the names of AWS services used in this project .Also , explain the use of each service."
   ]
  },
  {
   "cell_type": "markdown",
   "id": "440e2faf-7db3-4f0b-84fe-18fc5a9ff6fd",
   "metadata": {},
   "source": [
    "Ans : AWS Services Commonly Used in Web Scraping Projects:\n",
    "\n",
    "EC2 (Elastic Compute Cloud):\n",
    "\n",
    "Used to run the web scraping scripts on virtual servers.\n",
    "S3 (Simple Storage Service):\n",
    "\n",
    "Stores the scraped data securely in buckets for easy access and backup.\n",
    "RDS (Relational Database Service):\n",
    "\n",
    "Saves structured scraped data in a database like MySQL or PostgreSQL.\n",
    "Lambda:\n",
    "\n",
    "Automates and schedules the web scraping tasks without managing servers.\n",
    "CloudWatch:\n",
    "\n",
    "Monitors the scraping process and triggers alerts in case of issues.\n",
    "API Gateway:\n",
    "\n",
    "Provides an endpoint for accessing the scraped data via APIs.\n",
    "\n",
    "\n",
    "\n",
    "\n",
    "\n"
   ]
  },
  {
   "cell_type": "code",
   "execution_count": null,
   "id": "f48dec31-c065-40cf-ab4e-412266ddcebe",
   "metadata": {},
   "outputs": [],
   "source": []
  }
 ],
 "metadata": {
  "kernelspec": {
   "display_name": "Python 3 (ipykernel)",
   "language": "python",
   "name": "python3"
  },
  "language_info": {
   "codemirror_mode": {
    "name": "ipython",
    "version": 3
   },
   "file_extension": ".py",
   "mimetype": "text/x-python",
   "name": "python",
   "nbconvert_exporter": "python",
   "pygments_lexer": "ipython3",
   "version": "3.12.4"
  }
 },
 "nbformat": 4,
 "nbformat_minor": 5
}
